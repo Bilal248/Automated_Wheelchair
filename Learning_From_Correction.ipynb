{
 "cells": [
  {
   "cell_type": "code",
   "execution_count": 2,
   "id": "42e9dd75",
   "metadata": {},
   "outputs": [],
   "source": [
    "import numpy as np\n",
    "from sklearn.ensemble import IsolationForest\n",
    "from tensorflow import keras"
   ]
  },
  {
   "cell_type": "code",
   "execution_count": 3,
   "id": "f8f32698",
   "metadata": {},
   "outputs": [],
   "source": [
    "class CorrectionLearner:\n",
    "    def __init__(self):\n",
    "        self.memory = []\n",
    "        self.model = self._init_model()\n",
    "        \n",
    "    def _init_model(self):\n",
    "        \"\"\"Neural network to learn from manual overrides\"\"\"\n",
    "        model = keras.Sequential([\n",
    "            keras.layers.Dense(16, activation='relu', input_shape=(6,)),\n",
    "            keras.layers.Dense(8, activation='relu'),\n",
    "            keras.layers.Dense(3, activation='softmax')  # left/right/stop\n",
    "        ])\n",
    "        model.compile(optimizer='adam', loss='categorical_crossentropy')\n",
    "        return model\n",
    "    \n",
    "    def record_correction(self, sensors, user_action):\n",
    "        \"\"\"\n",
    "        sensors: Dictionary of sensor readings when correction occurred\n",
    "        user_action: 'left', 'right', or 'stop'\n",
    "        \"\"\"\n",
    "        self.memory.append({\n",
    "            'tof': sensors['tof'],\n",
    "            'ultrasonic': sensors['ultrasonic'],\n",
    "            'speed': sensors['speed'],\n",
    "            'action': user_action\n",
    "        })\n",
    "        \n",
    "        # Retrain periodically\n",
    "        if len(self.memory) % 50 == 0:\n",
    "            self._retrain_model()\n",
    "    \n",
    "    def _retrain_model(self):\n",
    "        \"\"\"Update model with new correction data\"\"\"\n",
    "        X = []\n",
    "        y = []\n",
    "        \n",
    "        for record in self.memory:\n",
    "            X.append([\n",
    "                record['tof']/8191.0,\n",
    "                record['ultrasonic']/400.0,\n",
    "                record['speed']/2.0,\n",
    "                record['tof_prev']/8191.0 if 'tof_prev' in record else 0,\n",
    "                record['ultrasonic_prev']/400.0 if 'ultrasonic_prev' in record else 0,\n",
    "                record['speed_prev']/2.0 if 'speed_prev' in record else 0\n",
    "            ])\n",
    "            \n",
    "            action = record['action']\n",
    "            y.append([1,0,0] if action == 'left' else\n",
    "                    [0,1,0] if action == 'right' else\n",
    "                    [0,0,1])\n",
    "        \n",
    "        self.model.fit(np.array(X), np.array(y), epochs=10, verbose=0)"
   ]
  },
  {
   "cell_type": "code",
   "execution_count": null,
   "id": "cd0edceb",
   "metadata": {},
   "outputs": [],
   "source": []
  }
 ],
 "metadata": {
  "kernelspec": {
   "display_name": "base",
   "language": "python",
   "name": "python3"
  },
  "language_info": {
   "codemirror_mode": {
    "name": "ipython",
    "version": 3
   },
   "file_extension": ".py",
   "mimetype": "text/x-python",
   "name": "python",
   "nbconvert_exporter": "python",
   "pygments_lexer": "ipython3",
   "version": "3.11.5"
  }
 },
 "nbformat": 4,
 "nbformat_minor": 5
}
