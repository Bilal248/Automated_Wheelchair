{
 "cells": [
  {
   "cell_type": "code",
   "execution_count": 20,
   "id": "6765ccf0",
   "metadata": {},
   "outputs": [],
   "source": [
    "import pandas as pd\n",
    "from sklearn.model_selection import train_test_split\n",
    "from sklearn.tree import DecisionTreeClassifier\n",
    "import joblib\n",
    "from sklearn.metrics import classification_report"
   ]
  },
  {
   "cell_type": "code",
   "execution_count": 21,
   "id": "02dc49ab",
   "metadata": {},
   "outputs": [
    {
     "name": "stdout",
     "output_type": "stream",
     "text": [
      "Class distribution:\n",
      "obstacle\n",
      "0    228\n",
      "1      8\n",
      "Name: count, dtype: int64\n",
      "\n",
      "Model saved to obstacle_dt.joblib\n",
      "\n",
      "Model Evaluation:\n",
      "              precision    recall  f1-score   support\n",
      "\n",
      "           0       1.00      0.98      0.99        46\n",
      "           1       0.67      1.00      0.80         2\n",
      "\n",
      "    accuracy                           0.98        48\n",
      "   macro avg       0.83      0.99      0.89        48\n",
      "weighted avg       0.99      0.98      0.98        48\n",
      "\n",
      "\n",
      "Feature Importances:\n",
      "timeOfFlight: 1.00\n",
      "hc: 0.00\n",
      "speed: 0.00\n"
     ]
    }
   ],
   "source": [
    "# Load data\n",
    "df = pd.read_csv(\"uni7_data.csv\")\n",
    "\n",
    "# Create obstacle label based on timeOfFlight\n",
    "# Assuming values below 1000 indicate an obstacle (adjust threshold as needed)\n",
    "OBSTACLE_THRESHOLD = 1000\n",
    "df['obstacle'] = (df['timeOfFlight'] < OBSTACLE_THRESHOLD).astype(int)\n",
    "\n",
    "# Check class distribution\n",
    "print(\"Class distribution:\")\n",
    "print(df['obstacle'].value_counts())\n",
    "\n",
    "# Feature selection\n",
    "X = df[['timeOfFlight', 'hc', 'speed']]\n",
    "y = df['obstacle']\n",
    "\n",
    "# Split data with stratification\n",
    "X_train, X_test, y_train, y_test = train_test_split(\n",
    "    X, y, \n",
    "    test_size=0.2, \n",
    "    random_state=42,\n",
    "    stratify=y\n",
    ")\n",
    "\n",
    "# Create and train model\n",
    "model = DecisionTreeClassifier(\n",
    "    max_depth=3,\n",
    "    random_state=42,\n",
    "    class_weight='balanced'  # Helps with imbalanced classes\n",
    ")\n",
    "model.fit(X_train, y_train)\n",
    "\n",
    "# Save model\n",
    "joblib.dump(model, 'obstacle_dt.joblib')\n",
    "print(\"\\nModel saved to obstacle_dt.joblib\")\n",
    "\n",
    "# Evaluate model\n",
    "y_pred = model.predict(X_test)\n",
    "print(\"\\nModel Evaluation:\")\n",
    "print(classification_report(y_test, y_pred))\n",
    "\n",
    "# Feature importance\n",
    "print(\"\\nFeature Importances:\")\n",
    "for name, importance in zip(X.columns, model.feature_importances_):\n",
    "    print(f\"{name}: {importance:.2f}\")"
   ]
  },
  {
   "cell_type": "code",
   "execution_count": null,
   "id": "959a59bf",
   "metadata": {},
   "outputs": [],
   "source": []
  }
 ],
 "metadata": {
  "kernelspec": {
   "display_name": "base",
   "language": "python",
   "name": "python3"
  },
  "language_info": {
   "codemirror_mode": {
    "name": "ipython",
    "version": 3
   },
   "file_extension": ".py",
   "mimetype": "text/x-python",
   "name": "python",
   "nbconvert_exporter": "python",
   "pygments_lexer": "ipython3",
   "version": "3.11.5"
  }
 },
 "nbformat": 4,
 "nbformat_minor": 5
}
